{
 "cells": [
  {
   "cell_type": "code",
   "execution_count": null,
   "id": "b7aff2bf-3696-487d-9c5b-cf05b9e1110f",
   "metadata": {},
   "outputs": [],
   "source": [
    "import numpy as np\n",
    "import matplotlib.pyplot as plt\n",
    "\n",
    "x, y = [], []\n",
    "\n",
    "with open(\"data.xvg\") as f:\n",
    "    for line in f:\n",
    "        cols = line.split()\n",
    "\n",
    "        if len(cols) == 2:\n",
    "            x.append(float(cols[0]))\n",
    "            y.append(float(cols[1]))\n",
    "\n",
    "\n",
    "fig = plt.figure()\n",
    "ax1 = fig.add_subplot(111)\n",
    "ax1.set_title(\"Plot title...\")    \n",
    "ax1.set_xlabel('your x label..')\n",
    "ax1.set_ylabel('your y label...')\n",
    "ax1.plot(x,y, c='r', label='the data')\n",
    "leg = ax1.legend()\n",
    "plt.show()  "
   ]
  }
 ],
 "metadata": {
  "kernelspec": {
   "display_name": "Python 3 (ipykernel)",
   "language": "python",
   "name": "python3"
  },
  "language_info": {
   "codemirror_mode": {
    "name": "ipython",
    "version": 3
   },
   "file_extension": ".py",
   "mimetype": "text/x-python",
   "name": "python",
   "nbconvert_exporter": "python",
   "pygments_lexer": "ipython3",
   "version": "3.9.15"
  }
 },
 "nbformat": 4,
 "nbformat_minor": 5
}
